{
  "nbformat": 4,
  "nbformat_minor": 0,
  "metadata": {
    "colab": {
      "provenance": []
    },
    "kernelspec": {
      "name": "python3",
      "display_name": "Python 3"
    },
    "language_info": {
      "name": "python"
    }
  },
  "cells": [
    {
      "cell_type": "markdown",
      "source": [
        "# Python basics\n"
      ],
      "metadata": {
        "id": "EFYZmlImpyfq"
      }
    },
    {
      "cell_type": "markdown",
      "source": [
        "1. What is Python, and why is it popular.\n",
        "\n",
        "   - Python is a programming language that is easy to understand and write, making it a popular choice among developers and programmers.\n",
        "\n",
        "2.  What is an interpreter in Python.\n",
        "\n",
        "   - In Python, an interpreter is a program that reads and executes code line by line. Unlike a compiler, which translates the entire code into machine language (or bytecode) before execution, an interpreter processes the code step by step. It directly executes instructions written in Python.\n",
        "   Python code is executed by the CPython interpreter (the default Python implementation).\n",
        "3.What are pre-defined keywords in Python\n",
        "  \n",
        "  - Keywords are reserved words in Python that have special meanings and cannot be used as identifiers (variable names, function names, etc.).\n",
        "Examples of keywords include if, else, while, for, def, class, import, try, except, return, True, False, None, etc.\n",
        "Keywords are case-sensitive and cannot be redefined or overridden within a Python program.\n",
        "4. Can keywords be used as variable names\n",
        "   \n",
        "   - keywords cannot be used as identifiers (such as variable names, function names, or class names) because they are part of the language’s syntax and control structures.\n",
        "5.What is mutability in Python\n",
        "  \n",
        "  - Mutability in Python refers to whether or not an object’s state or contents can be changed after it is created.\n",
        "\n",
        "  - Mutable objects can be changed after their creation.\n",
        "  - Immutable objects cannot be changed after their creation.\n",
        "6. Why are lists mutable, but tuples are immutable\n",
        "   \n",
        "   - The distinction between mutable lists and immutable tuples in Python stems from their design goals and use cases, as well as their behavior in terms of memory management and performance.\n",
        "  - Lists are designed to be flexible and efficient for cases where you need to change, update, or modify a collection of items. A list is like a container that you can dynamically adjust (add, remove, change elements) throughout your program's execution.\n",
        "  - Tuples, on the other hand, are designed to be fixed collections of items, meant to represent data that shouldn’t change. The idea is that once you create a tuple, its contents are intended to remain constant throughout the program. They are used when the data should remain unchanged for the program’s duration, like a set of coordinates, a date, or a fixed configuration.\n",
        "\n",
        "7. What is the difference between “==” and “is” operators in Python\n",
        "\n",
        "   - The '==' and 'is' operators in Python both compare objects, but they do so in different ways and for different purposes.\n",
        "   - '==' (Equality Operator)\n",
        "   - 'is' (Identity Operator)\n",
        "   - '==' compares values: It checks if the data within the objects is the same.\n",
        "   - 'is' compares identities: It checks if the two variables point to the same memory location (i.e., the same object)\n",
        "8.What are logical operators in Python\n",
        "\n",
        "  - In Python, logical operators are used to perform logical operations on Boolean (True/False) values.Here are the three main logical operators in Python:\n",
        "  - 1. 'and' =\n",
        "  The and operator returns True if both conditions (or expressions) are True. Otherwise, it returns False.\n",
        "  - 2. 'or' =\n",
        "The or operator returns True if at least one of the conditions is True. If both are False, it returns False.\n",
        "  - 3. 'not' =\n",
        "The not operator inverts the Boolean value of a condition. It returns True if the condition is False, and False if the condition is True.\n",
        "9.What is type casting in Python\n",
        "  \n",
        "  - Type casting, also referred to as type conversion, is the process of changing one data type to another in Python.\n",
        "  - Python provides built-in functions for type casting, such as int(), float(), str(), list(), tuple(), dict(), etc.\n",
        "10. What is the difference between implicit and explicit type casting\n",
        "    \n",
        "    - 1. Implicit Type Casting (Type Coercion) = Implicit type casting happens automatically, without any user intervention. It occurs when Python automatically converts one data type to another during an operation to avoid errors or inconsistencies.\n",
        "    - 2. Explicit Type Casting (Type Conversion) = Explicit type casting requires the user to manually convert one data type to another using built-in functions like int(), float(), str(), etc.\n",
        "11. What is the purpose of conditional statements in Python\n",
        "\n",
        "    - Conditionals in Python are used to execute code based on the evaluation of one or more conditions.\n",
        "    - Python supports conditional statements such as if, elif (else if), and else to control the flow of execution.\n",
        "12.How does the elif statement work\n",
        "\n",
        "   - The elif (short for \"else if\") statement in Python is used as part of conditional statements to check multiple conditions sequentially. It allows you to test more than two possibilities (instead of just using if and else), and it's useful when you want to handle several different conditions in a structured way.\n",
        "\n",
        "   -  Basic Structure of if, elif, and else\n",
        "   -  'if': The first condition to be checked. If it's True, the corresponding code block runs, and the rest of the conditions (including elif and else) are skipped.\n",
        "   -  'elif': The next condition(s) to check if the previous if or elif were False. You can have as many elif branches as you need.\n",
        "   - 'else': The final fallback option if none of the if or elif conditions are True.\n",
        "13. What is the difference between for and while loops\n",
        "    \n",
        "    - In Python, both for and while loops are used to repeat a block of code multiple times, but they differ in how they control the flow of execution. Here's a breakdown of their differences:\n",
        "    - 1. 'for Loop' =\n",
        "     A for loop is typically used when you know in advance how many times you want the loop to run. It is commonly used for iterating over sequences (like lists, tuples, strings, or ranges).\n",
        "     - iterating over a list, tuple, string, or range.\n",
        "     - When the number of iterations is known or determined by the length of a sequence.\n",
        "    - 2. 'while Loop' =\n",
        "  A while loop is used when you want the loop to continue running as long as a certain condition is True. The number of iterations is not necessarily known in advance. The loop will run until the condition becomes False.\n",
        "     -  When the number of iterations is unknown beforehand and depends on a condition that is evaluated during execution.\n",
        "     - Useful when you want to loop until a specific condition is met (e.g., user input, specific calculations).\n",
        "14.Describe a scenario where a while loop is more suitable than a for loop.\n",
        "   \n",
        "   - A while loop is more suitable than a for loop when you don't know in advance how many iterations you'll need, and instead, you want the loop to continue until a certain condition is met. This makes it ideal for scenarios where the loop's continuation depends on external factors or changing conditions during execution.\n",
        "   - Imagine you're writing a program that asks a user for their age, but you want to ensure the user enters a valid age (a positive integer). In this case, a while loop would be ideal because you don't know how many times the user will need to input the correct value, and the loop should continue until they enter something valid.\n",
        "   - Use a while loop when the number of iterations is unknown or depends on a condition that may change over time.\n",
        "   - It’s useful for scenarios where you want to keep repeating an action until a certain condition is met (like user input, retries, or process completion).\n",
        "   - In contrast, a for loop is better when you know in advance how many times you want to iterate, like iterating over a collection or range.\n",
        "\n",
        "\n",
        "\n",
        "\n",
        "\n",
        "\n",
        "\n",
        "   \n",
        "\n"
      ],
      "metadata": {
        "id": "y81EwlJJFwn2"
      }
    },
    {
      "cell_type": "code",
      "source": [
        "#1. Write a Python program to print \"Hello, World!\n",
        "print(\"hello world\")"
      ],
      "metadata": {
        "colab": {
          "base_uri": "https://localhost:8080/"
        },
        "id": "N4Bq52D0BX2z",
        "outputId": "f3a193b8-c877-4bcc-cb9a-d7f08f8f69dd"
      },
      "execution_count": 1,
      "outputs": [
        {
          "output_type": "stream",
          "name": "stdout",
          "text": [
            "hello world\n"
          ]
        }
      ]
    },
    {
      "cell_type": "code",
      "execution_count": 4,
      "metadata": {
        "id": "3L2Af1cZosFF",
        "colab": {
          "base_uri": "https://localhost:8080/"
        },
        "outputId": "986416d2-2769-44ac-a886-d5da45a4735b"
      },
      "outputs": [
        {
          "name": "stdout",
          "output_type": "stream",
          "text": [
            "enter your age : 21\n",
            "enter your name : Saral tripathi\n"
          ]
        }
      ],
      "source": [
        "#2.Write a Python program that displays your name and age\n",
        "age = input(\"enter your age : \")\n",
        "name = input(\"enter your name : \")"
      ]
    },
    {
      "cell_type": "code",
      "source": [
        "#3. Write code to print all the pre-defined keywords in Python using the keyword library\n",
        "help('keywords')\n",
        ""
      ],
      "metadata": {
        "colab": {
          "base_uri": "https://localhost:8080/"
        },
        "id": "LOMJRuJaB4KE",
        "outputId": "3306caa2-369b-4357-d991-20f4e4374fd4"
      },
      "execution_count": 10,
      "outputs": [
        {
          "output_type": "stream",
          "name": "stdout",
          "text": [
            "\n",
            "Here is a list of the Python keywords.  Enter any keyword to get more help.\n",
            "\n",
            "False               class               from                or\n",
            "None                continue            global              pass\n",
            "True                def                 if                  raise\n",
            "and                 del                 import              return\n",
            "as                  elif                in                  try\n",
            "assert              else                is                  while\n",
            "async               except              lambda              with\n",
            "await               finally             nonlocal            yield\n",
            "break               for                 not                 \n",
            "\n"
          ]
        }
      ]
    },
    {
      "cell_type": "code",
      "source": [
        "#4.Write a program that checks if a given word is a Python keyword\n",
        "import keyword\n",
        "a = input(\"enter a word : \")\n",
        "if keyword.iskeyword(a):\n",
        "  print(\"it is a keyword\")\n",
        "else:\n",
        "  print(\"it is not a keyword\")\n",
        "\n"
      ],
      "metadata": {
        "colab": {
          "base_uri": "https://localhost:8080/"
        },
        "id": "sApH7R1zCa0s",
        "outputId": "4e8700e6-f2d3-4e8d-f1a9-89802c6bc507"
      },
      "execution_count": 11,
      "outputs": [
        {
          "name": "stdout",
          "output_type": "stream",
          "text": [
            "enter a word : none\n",
            "it is not a keyword\n",
            "enter a word : \n"
          ]
        }
      ]
    },
    {
      "cell_type": "code",
      "source": [
        "#5. Create a list and tuple in Python, and demonstrate how attempting to change an element works different for each\n",
        "list1 = [1,2,3,\"apples\",\"bananas\"]\n",
        "tuple1 = (1,2,3,\"apples\",\"bananas\")\n",
        "list1[0] #indexing\n",
        "list1[0] = 10\n",
        "print(\"List after modification:\", list1) # Print the modified list\n",
        "\n",
        "tuple1[0] #indexing - Accessing elements in a tuple is allowed\n",
        "# tuple1[0] = 10  # This line causes the error -  Commented out to avoid the error.\n",
        "print(\"Tuple:\", tuple1) # Print the original tuple to demonstrate immutability\n",
        "\n",
        "print(\"Tuples are immutable, so you cannot change their elements after creation.\") # Explanation added"
      ],
      "metadata": {
        "colab": {
          "base_uri": "https://localhost:8080/"
        },
        "id": "Z09PJ_gPDsEr",
        "outputId": "9695c243-da76-4396-e8a0-2f68cd78f311"
      },
      "execution_count": 19,
      "outputs": [
        {
          "output_type": "stream",
          "name": "stdout",
          "text": [
            "List after modification: [10, 2, 3, 'apples', 'bananas']\n",
            "Tuple: (1, 2, 3, 'apples', 'bananas')\n",
            "Tuples are immutable, so you cannot change their elements after creation.\n"
          ]
        }
      ]
    },
    {
      "cell_type": "code",
      "source": [
        "#6.Write a function to demonstrate the behavior of mutable and immutable arguments\n",
        "def my_list():\n",
        "  list1 = [1,2,3,\"apples\",\"bananas\"]\n",
        "  list1[0] = 10\n",
        "  print(\"List after modification:\", list1) # Print the modified list\n",
        "my_list()\n",
        "def my_tuple():\n",
        "  tuple1 = (1,2,3,\"apples\",\"bananas\")\n",
        "  #tuple1[0] = 10 >> it causes error ,commented out to view the result\n",
        "  print(\"Tuple:\", tuple1) # Print the original tuple to demonstrate immutability\n",
        "my_tuple()\n",
        "\n",
        "\n",
        "\n"
      ],
      "metadata": {
        "colab": {
          "base_uri": "https://localhost:8080/"
        },
        "id": "0VLScErEGurR",
        "outputId": "69c60e36-0f3a-441d-e894-c460c894e3fb"
      },
      "execution_count": 26,
      "outputs": [
        {
          "output_type": "stream",
          "name": "stdout",
          "text": [
            "List after modification: [10, 2, 3, 'apples', 'bananas']\n",
            "Tuple: (1, 2, 3, 'apples', 'bananas')\n"
          ]
        }
      ]
    },
    {
      "cell_type": "code",
      "source": [
        "#8. Write a program to demonstrate the use of logical operators\n",
        "x = 5\n",
        "y = 3\n",
        "   #logical OR\n",
        "if x > 0 and y > 0:\n",
        "    print(\"Both x and y are positive.\")\n",
        "    #logical AND\n",
        "elif x > 0 or y > 0:\n",
        "    print(\"At least one of x or y is positive.\")\n",
        "    # Logical NOT\n",
        "elif not x > 0:\n",
        "    print(\"x is not positive.\")\n",
        "else:\n",
        "  print(\"nothing is fulfill the logical operators result\")\n"
      ],
      "metadata": {
        "colab": {
          "base_uri": "https://localhost:8080/"
        },
        "id": "yorCazGzIi7f",
        "outputId": "fffbd663-c2b2-4b3c-a9d4-1e100e29efb5"
      },
      "execution_count": 30,
      "outputs": [
        {
          "output_type": "stream",
          "name": "stdout",
          "text": [
            "Both x and y are positive.\n"
          ]
        }
      ]
    },
    {
      "cell_type": "code",
      "source": [
        "#9. Write a Python program to convert user input from string to integer, float, and boolean types\n",
        "str1 = \"23\"\n",
        "type(str1)\n",
        "   #string to integer\n",
        "a = int(str1)\n",
        "type(a)\n",
        "   # string to float\n",
        "b = float(str1)\n",
        "type(b)\n",
        "   # string to boolean\n",
        "c = bool(str1)\n",
        "type(c)\n",
        "print(a)\n",
        "print(b)\n",
        "print(c)"
      ],
      "metadata": {
        "colab": {
          "base_uri": "https://localhost:8080/"
        },
        "id": "j-C16241LIBG",
        "outputId": "43334cfa-f800-4af4-d553-dbc64e3dfc48"
      },
      "execution_count": 38,
      "outputs": [
        {
          "output_type": "stream",
          "name": "stdout",
          "text": [
            "23\n",
            "23.0\n",
            "True\n"
          ]
        }
      ]
    },
    {
      "cell_type": "code",
      "source": [
        " #10. Write code to demonstrate type casting with list elements\n",
        "my_list =[1 ,2 , 3 ,\"mango\",\"apple\"]\n",
        "my_list[0]\n",
        "type(my_list[0]) # this print the datatype what in my_list\n",
        "my_list[0] = str(my_list[0])# after type casting the 0th element of my_list is change to string\n",
        "type(my_list[0])"
      ],
      "metadata": {
        "colab": {
          "base_uri": "https://localhost:8080/"
        },
        "id": "tTCDAeZMMZxR",
        "outputId": "a5ce3388-0378-4160-caa1-1b899ce247e6"
      },
      "execution_count": 42,
      "outputs": [
        {
          "output_type": "execute_result",
          "data": {
            "text/plain": [
              "str"
            ]
          },
          "metadata": {},
          "execution_count": 42
        }
      ]
    },
    {
      "cell_type": "code",
      "source": [
        "#11. Write a program that checks if a number is positive, negative, or zero\n",
        "number = int(input(\"Enter your number : \"))\n",
        "if number  > 0:\n",
        "  print(\"number is positive\")\n",
        "elif number < 0:\n",
        "  print(\"number is negative\")\n",
        "else:\n",
        "  print(\"number is zero\")"
      ],
      "metadata": {
        "colab": {
          "base_uri": "https://localhost:8080/"
        },
        "id": "T-S04PSMPSdv",
        "outputId": "117af082-d216-4113-a23f-2e3c2e5a25d1"
      },
      "execution_count": 46,
      "outputs": [
        {
          "output_type": "stream",
          "name": "stdout",
          "text": [
            "Enter your number : 0\n",
            "number is zero\n"
          ]
        }
      ]
    },
    {
      "cell_type": "code",
      "source": [
        "# 12. Write a for loop to print numbers from 1 to 100\n",
        "numbers = range(1,101)\n",
        "for number in numbers:\n",
        "  print(number)"
      ],
      "metadata": {
        "colab": {
          "base_uri": "https://localhost:8080/"
        },
        "id": "SkVd14TQQqzp",
        "outputId": "89dfd13f-143e-4fe7-c8ec-5a50b6b8dd81"
      },
      "execution_count": 47,
      "outputs": [
        {
          "output_type": "stream",
          "name": "stdout",
          "text": [
            "1\n",
            "2\n",
            "3\n",
            "4\n",
            "5\n",
            "6\n",
            "7\n",
            "8\n",
            "9\n",
            "10\n",
            "11\n",
            "12\n",
            "13\n",
            "14\n",
            "15\n",
            "16\n",
            "17\n",
            "18\n",
            "19\n",
            "20\n",
            "21\n",
            "22\n",
            "23\n",
            "24\n",
            "25\n",
            "26\n",
            "27\n",
            "28\n",
            "29\n",
            "30\n",
            "31\n",
            "32\n",
            "33\n",
            "34\n",
            "35\n",
            "36\n",
            "37\n",
            "38\n",
            "39\n",
            "40\n",
            "41\n",
            "42\n",
            "43\n",
            "44\n",
            "45\n",
            "46\n",
            "47\n",
            "48\n",
            "49\n",
            "50\n",
            "51\n",
            "52\n",
            "53\n",
            "54\n",
            "55\n",
            "56\n",
            "57\n",
            "58\n",
            "59\n",
            "60\n",
            "61\n",
            "62\n",
            "63\n",
            "64\n",
            "65\n",
            "66\n",
            "67\n",
            "68\n",
            "69\n",
            "70\n",
            "71\n",
            "72\n",
            "73\n",
            "74\n",
            "75\n",
            "76\n",
            "77\n",
            "78\n",
            "79\n",
            "80\n",
            "81\n",
            "82\n",
            "83\n",
            "84\n",
            "85\n",
            "86\n",
            "87\n",
            "88\n",
            "89\n",
            "90\n",
            "91\n",
            "92\n",
            "93\n",
            "94\n",
            "95\n",
            "96\n",
            "97\n",
            "98\n",
            "99\n",
            "100\n"
          ]
        }
      ]
    },
    {
      "cell_type": "code",
      "source": [
        "#13.  Write a Python program to find the sum of all even numbers between 1 and 50\n",
        "numbers = range(1,51)\n",
        "sum_ = 0\n",
        "for numbers in numbers:\n",
        "  if numbers % 2 == 0:\n",
        "    sum_ = sum_ + numbers\n",
        "print(sum_)"
      ],
      "metadata": {
        "colab": {
          "base_uri": "https://localhost:8080/"
        },
        "id": "y0KlVfSpRXLR",
        "outputId": "61d81d36-c554-4dc7-e9a0-fd497687b6d7"
      },
      "execution_count": 48,
      "outputs": [
        {
          "output_type": "stream",
          "name": "stdout",
          "text": [
            "650\n"
          ]
        }
      ]
    },
    {
      "cell_type": "code",
      "source": [
        "#14. Write a program to reverse a string using a while loop\n",
        "string = input(\"Enter a string: \")\n",
        "reversed_string = \"\"\n",
        "index = len(string) - 1\n",
        "while index >= 0:\n",
        "    reversed_string += string[index]\n",
        "    index -= 1\n",
        "print(\"Reversed string:\", reversed_string)"
      ],
      "metadata": {
        "colab": {
          "base_uri": "https://localhost:8080/"
        },
        "id": "4FEzEzZ0SpFz",
        "outputId": "b674fab6-b027-4908-bd8a-a8c3bad98365"
      },
      "execution_count": 50,
      "outputs": [
        {
          "output_type": "stream",
          "name": "stdout",
          "text": [
            "Enter a string: saral\n",
            "Reversed string: laras\n"
          ]
        }
      ]
    },
    {
      "cell_type": "code",
      "source": [
        "#15. Write a Python program to calculate the factorial of a number provided by the user using a while loop.\n",
        "number  = int(input(\"Enter a number :\"))\n",
        "factorial = 1\n",
        "while number > 0:\n",
        "  factorial = factorial * number\n",
        "  number = number - 1\n",
        "\n",
        "print(factorial)"
      ],
      "metadata": {
        "colab": {
          "base_uri": "https://localhost:8080/"
        },
        "id": "3HBbPMWnTB3H",
        "outputId": "2e96273b-87a7-4ced-a199-f663e22ccf5e"
      },
      "execution_count": 53,
      "outputs": [
        {
          "output_type": "stream",
          "name": "stdout",
          "text": [
            "Enter a number :4\n",
            "24\n"
          ]
        }
      ]
    },
    {
      "cell_type": "code",
      "source": [],
      "metadata": {
        "id": "ElMwTl3gV-Fv"
      },
      "execution_count": null,
      "outputs": []
    }
  ]
}